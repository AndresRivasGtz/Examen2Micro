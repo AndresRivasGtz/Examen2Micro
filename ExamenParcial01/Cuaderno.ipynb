{
  "nbformat": 4,
  "nbformat_minor": 0,
  "metadata": {
    "colab": {
      "provenance": [],
      "mount_file_id": "1U5NIPl8sSbP6GmgMvXt_Hi3BSr1eYENL",
      "authorship_tag": "ABX9TyPDRfUy1YYoKIhaJTPpsTcE",
      "include_colab_link": true
    },
    "kernelspec": {
      "name": "python3",
      "display_name": "Python 3"
    },
    "language_info": {
      "name": "python"
    }
  },
  "cells": [
    {
      "cell_type": "markdown",
      "metadata": {
        "id": "view-in-github",
        "colab_type": "text"
      },
      "source": [
        "<a href=\"https://colab.research.google.com/github/AndresRivasGtz/Examen2Micro/blob/main/ExamenParcial01/Cuaderno.ipynb\" target=\"_parent\"><img src=\"https://colab.research.google.com/assets/colab-badge.svg\" alt=\"Open In Colab\"/></a>"
      ]
    },
    {
      "cell_type": "code",
      "execution_count": null,
      "metadata": {
        "id": "z_yJhLbl5iWm"
      },
      "outputs": [],
      "source": [
        "from keras.models import Sequential\n",
        "from keras.layers import Dense\n",
        "from sklearn.model_selection import train_test_split\n",
        "from sklearn.preprocessing import OneHotEncoder \n",
        "from sklearn.preprocessing import MinMaxScaler\n",
        "import numpy as np\n",
        "import matplotlib.pyplot as plt"
      ]
    },
    {
      "cell_type": "code",
      "source": [
        "from google.colab import drive\n",
        "drive.mount('/content/drive')"
      ],
      "metadata": {
        "colab": {
          "base_uri": "https://localhost:8080/"
        },
        "id": "nulzStfJ7C76",
        "outputId": "521cb3c4-f223-45c6-bc4a-de5047dd0003"
      },
      "execution_count": null,
      "outputs": [
        {
          "output_type": "stream",
          "name": "stdout",
          "text": [
            "Drive already mounted at /content/drive; to attempt to forcibly remount, call drive.mount(\"/content/drive\", force_remount=True).\n"
          ]
        }
      ]
    },
    {
      "cell_type": "code",
      "source": [
        "dataset=np.loadtxt('/content/drive/MyDrive/base.txt', delimiter=',')"
      ],
      "metadata": {
        "id": "793_ZLuf6F6e"
      },
      "execution_count": null,
      "outputs": []
    },
    {
      "cell_type": "code",
      "source": [
        "dataset.shape"
      ],
      "metadata": {
        "colab": {
          "base_uri": "https://localhost:8080/"
        },
        "id": "SW73ppwi6F25",
        "outputId": "96ef3244-c748-4576-8502-ab5ed17cfbc4"
      },
      "execution_count": null,
      "outputs": [
        {
          "output_type": "execute_result",
          "data": {
            "text/plain": [
              "(333, 6)"
            ]
          },
          "metadata": {},
          "execution_count": 4
        }
      ]
    },
    {
      "cell_type": "code",
      "source": [
        "X=dataset[:,0:5]\n",
        "Y=dataset[:,5]"
      ],
      "metadata": {
        "id": "40ft9uk08U_l"
      },
      "execution_count": null,
      "outputs": []
    },
    {
      "cell_type": "code",
      "source": [
        "X"
      ],
      "metadata": {
        "colab": {
          "base_uri": "https://localhost:8080/"
        },
        "id": "_DoA4Zpu8k_d",
        "outputId": "d2f8452f-c15a-4670-f20e-815195debede"
      },
      "execution_count": null,
      "outputs": [
        {
          "output_type": "execute_result",
          "data": {
            "text/plain": [
              "array([[3.91e+01, 1.87e+01, 1.81e+02, 3.75e+03, 0.00e+00],\n",
              "       [3.95e+01, 1.74e+01, 1.86e+02, 3.80e+03, 1.00e+00],\n",
              "       [4.03e+01, 1.80e+01, 1.95e+02, 3.25e+03, 1.00e+00],\n",
              "       ...,\n",
              "       [5.04e+01, 1.57e+01, 2.22e+02, 5.75e+03, 0.00e+00],\n",
              "       [4.52e+01, 1.48e+01, 2.12e+02, 5.20e+03, 1.00e+00],\n",
              "       [4.99e+01, 1.61e+01, 2.13e+02, 5.40e+03, 0.00e+00]])"
            ]
          },
          "metadata": {},
          "execution_count": 6
        }
      ]
    },
    {
      "cell_type": "code",
      "source": [
        "Y"
      ],
      "metadata": {
        "colab": {
          "base_uri": "https://localhost:8080/"
        },
        "id": "OgTBzo248rz4",
        "outputId": "3ac29187-6b81-439e-f130-0ca434c188ce"
      },
      "execution_count": null,
      "outputs": [
        {
          "output_type": "execute_result",
          "data": {
            "text/plain": [
              "array([1., 1., 1., 1., 1., 1., 1., 1., 1., 1., 1., 1., 1., 1., 1., 1., 1.,\n",
              "       1., 1., 1., 1., 1., 1., 1., 1., 1., 1., 1., 1., 1., 1., 1., 1., 1.,\n",
              "       1., 1., 1., 1., 1., 1., 1., 1., 1., 1., 1., 1., 1., 1., 1., 1., 1.,\n",
              "       1., 1., 1., 1., 1., 1., 1., 1., 1., 1., 1., 1., 1., 1., 1., 1., 1.,\n",
              "       1., 1., 1., 1., 1., 1., 1., 1., 1., 1., 1., 1., 1., 1., 1., 1., 1.,\n",
              "       1., 1., 1., 1., 1., 1., 1., 1., 1., 1., 1., 1., 1., 1., 1., 1., 1.,\n",
              "       1., 1., 1., 1., 1., 1., 1., 1., 1., 1., 1., 1., 1., 1., 1., 1., 1.,\n",
              "       1., 1., 1., 1., 1., 1., 1., 1., 1., 1., 1., 1., 1., 1., 1., 1., 1.,\n",
              "       1., 1., 1., 1., 1., 1., 1., 1., 1., 1., 2., 2., 2., 2., 2., 2., 2.,\n",
              "       2., 2., 2., 2., 2., 2., 2., 2., 2., 2., 2., 2., 2., 2., 2., 2., 2.,\n",
              "       2., 2., 2., 2., 2., 2., 2., 2., 2., 2., 2., 2., 2., 2., 2., 2., 2.,\n",
              "       2., 2., 2., 2., 2., 2., 2., 2., 2., 2., 2., 2., 2., 2., 2., 2., 2.,\n",
              "       2., 2., 2., 2., 2., 2., 2., 2., 2., 2., 3., 3., 3., 3., 3., 3., 3.,\n",
              "       3., 3., 3., 3., 3., 3., 3., 3., 3., 3., 3., 3., 3., 3., 3., 3., 3.,\n",
              "       3., 3., 3., 3., 3., 3., 3., 3., 3., 3., 3., 3., 3., 3., 3., 3., 3.,\n",
              "       3., 3., 3., 3., 3., 3., 3., 3., 3., 3., 3., 3., 3., 3., 3., 3., 3.,\n",
              "       3., 3., 3., 3., 3., 3., 3., 3., 3., 3., 3., 3., 3., 3., 3., 3., 3.,\n",
              "       3., 3., 3., 3., 3., 3., 3., 3., 3., 3., 3., 3., 3., 3., 3., 3., 3.,\n",
              "       3., 3., 3., 3., 3., 3., 3., 3., 3., 3., 3., 3., 3., 3., 3., 3., 3.,\n",
              "       3., 3., 3., 3., 3., 3., 3., 3., 3., 3.])"
            ]
          },
          "metadata": {},
          "execution_count": 7
        }
      ]
    },
    {
      "cell_type": "code",
      "source": [
        "scaler = MinMaxScaler(feature_range=(0,1))\n",
        "X= scaler.fit_transform(X)"
      ],
      "metadata": {
        "id": "w2R5PNEO8vUT"
      },
      "execution_count": null,
      "outputs": []
    },
    {
      "cell_type": "code",
      "source": [
        "enc = OneHotEncoder()\n",
        "Y = enc.fit_transform(Y[:, np.newaxis]).toarray()"
      ],
      "metadata": {
        "id": "RlH6vpJD-G3L"
      },
      "execution_count": null,
      "outputs": []
    },
    {
      "cell_type": "code",
      "source": [
        "xTrain, xTest, yTrain, yTest = train_test_split(X, Y, test_size=0.2)"
      ],
      "metadata": {
        "id": "gcnG1pyg9PBD"
      },
      "execution_count": null,
      "outputs": []
    },
    {
      "cell_type": "code",
      "source": [
        "xTest.shape"
      ],
      "metadata": {
        "colab": {
          "base_uri": "https://localhost:8080/"
        },
        "id": "qFdgrvg59nSM",
        "outputId": "4d31fa24-0f6e-4fe6-edac-6037f4bbbb51"
      },
      "execution_count": null,
      "outputs": [
        {
          "output_type": "execute_result",
          "data": {
            "text/plain": [
              "(67, 5)"
            ]
          },
          "metadata": {},
          "execution_count": 15
        }
      ]
    },
    {
      "cell_type": "code",
      "source": [
        "model=Sequential()\n",
        "model.add(Dense(10, input_dim=5, activation='sigmoid'))\n",
        "model.add(Dense(5, activation='relu'))\n",
        "model.add(Dense(3, activation='sigmoid'))"
      ],
      "metadata": {
        "id": "_ttkonTt-18q"
      },
      "execution_count": null,
      "outputs": []
    },
    {
      "cell_type": "code",
      "source": [
        "model.compile(loss='mean_squared_error', optimizer='adam', metrics='accuracy')\n",
        "history = model.fit(xTrain, yTrain, validation_data=(xTest, yTest), epochs=300, batch_size=10)"
      ],
      "metadata": {
        "colab": {
          "base_uri": "https://localhost:8080/"
        },
        "id": "Wq-IVsl5_UIx",
        "outputId": "a3ba92c4-8ce4-4451-ab66-6cf28e2142b1"
      },
      "execution_count": null,
      "outputs": [
        {
          "output_type": "stream",
          "name": "stdout",
          "text": [
            "Epoch 1/300\n",
            "27/27 [==============================] - 2s 14ms/step - loss: 0.2258 - accuracy: 0.4436 - val_loss: 0.2270 - val_accuracy: 0.4179\n",
            "Epoch 2/300\n",
            "27/27 [==============================] - 0s 4ms/step - loss: 0.2230 - accuracy: 0.4436 - val_loss: 0.2238 - val_accuracy: 0.4179\n",
            "Epoch 3/300\n",
            "27/27 [==============================] - 0s 4ms/step - loss: 0.2208 - accuracy: 0.4436 - val_loss: 0.2212 - val_accuracy: 0.4179\n",
            "Epoch 4/300\n",
            "27/27 [==============================] - 0s 4ms/step - loss: 0.2187 - accuracy: 0.4436 - val_loss: 0.2186 - val_accuracy: 0.4179\n",
            "Epoch 5/300\n",
            "27/27 [==============================] - 0s 4ms/step - loss: 0.2166 - accuracy: 0.4436 - val_loss: 0.2162 - val_accuracy: 0.4179\n",
            "Epoch 6/300\n",
            "27/27 [==============================] - 0s 4ms/step - loss: 0.2146 - accuracy: 0.4436 - val_loss: 0.2137 - val_accuracy: 0.4179\n",
            "Epoch 7/300\n",
            "27/27 [==============================] - 0s 4ms/step - loss: 0.2125 - accuracy: 0.4436 - val_loss: 0.2112 - val_accuracy: 0.4179\n",
            "Epoch 8/300\n",
            "27/27 [==============================] - 0s 4ms/step - loss: 0.2105 - accuracy: 0.4436 - val_loss: 0.2089 - val_accuracy: 0.4179\n",
            "Epoch 9/300\n",
            "27/27 [==============================] - 0s 4ms/step - loss: 0.2086 - accuracy: 0.4436 - val_loss: 0.2064 - val_accuracy: 0.4179\n",
            "Epoch 10/300\n",
            "27/27 [==============================] - 0s 4ms/step - loss: 0.2066 - accuracy: 0.4436 - val_loss: 0.2040 - val_accuracy: 0.4179\n",
            "Epoch 11/300\n",
            "27/27 [==============================] - 0s 4ms/step - loss: 0.2044 - accuracy: 0.4436 - val_loss: 0.2014 - val_accuracy: 0.4179\n",
            "Epoch 12/300\n",
            "27/27 [==============================] - 0s 4ms/step - loss: 0.2025 - accuracy: 0.4436 - val_loss: 0.1989 - val_accuracy: 0.4179\n",
            "Epoch 13/300\n",
            "27/27 [==============================] - 0s 4ms/step - loss: 0.2002 - accuracy: 0.4436 - val_loss: 0.1963 - val_accuracy: 0.4179\n",
            "Epoch 14/300\n",
            "27/27 [==============================] - 0s 4ms/step - loss: 0.1980 - accuracy: 0.4436 - val_loss: 0.1938 - val_accuracy: 0.4179\n",
            "Epoch 15/300\n",
            "27/27 [==============================] - 0s 3ms/step - loss: 0.1958 - accuracy: 0.4436 - val_loss: 0.1911 - val_accuracy: 0.4179\n",
            "Epoch 16/300\n",
            "27/27 [==============================] - 0s 4ms/step - loss: 0.1918 - accuracy: 0.4436 - val_loss: 0.1834 - val_accuracy: 0.4179\n",
            "Epoch 17/300\n",
            "27/27 [==============================] - 0s 5ms/step - loss: 0.1862 - accuracy: 0.4624 - val_loss: 0.1763 - val_accuracy: 0.5373\n",
            "Epoch 18/300\n",
            "27/27 [==============================] - 0s 4ms/step - loss: 0.1808 - accuracy: 0.6241 - val_loss: 0.1681 - val_accuracy: 0.7761\n",
            "Epoch 19/300\n",
            "27/27 [==============================] - 0s 4ms/step - loss: 0.1752 - accuracy: 0.7331 - val_loss: 0.1606 - val_accuracy: 0.8507\n",
            "Epoch 20/300\n",
            "27/27 [==============================] - 0s 4ms/step - loss: 0.1690 - accuracy: 0.7594 - val_loss: 0.1536 - val_accuracy: 0.8507\n",
            "Epoch 21/300\n",
            "27/27 [==============================] - 0s 4ms/step - loss: 0.1632 - accuracy: 0.7782 - val_loss: 0.1466 - val_accuracy: 0.8507\n",
            "Epoch 22/300\n",
            "27/27 [==============================] - 0s 4ms/step - loss: 0.1573 - accuracy: 0.7820 - val_loss: 0.1388 - val_accuracy: 0.8507\n",
            "Epoch 23/300\n",
            "27/27 [==============================] - 0s 4ms/step - loss: 0.1513 - accuracy: 0.7820 - val_loss: 0.1318 - val_accuracy: 0.8507\n",
            "Epoch 24/300\n",
            "27/27 [==============================] - 0s 4ms/step - loss: 0.1461 - accuracy: 0.7820 - val_loss: 0.1255 - val_accuracy: 0.8507\n",
            "Epoch 25/300\n",
            "27/27 [==============================] - 0s 4ms/step - loss: 0.1404 - accuracy: 0.7820 - val_loss: 0.1192 - val_accuracy: 0.8507\n",
            "Epoch 26/300\n",
            "27/27 [==============================] - 0s 5ms/step - loss: 0.1353 - accuracy: 0.7820 - val_loss: 0.1136 - val_accuracy: 0.8507\n",
            "Epoch 27/300\n",
            "27/27 [==============================] - 0s 4ms/step - loss: 0.1305 - accuracy: 0.7820 - val_loss: 0.1083 - val_accuracy: 0.8507\n",
            "Epoch 28/300\n",
            "27/27 [==============================] - 0s 4ms/step - loss: 0.1263 - accuracy: 0.7820 - val_loss: 0.1038 - val_accuracy: 0.8507\n",
            "Epoch 29/300\n",
            "27/27 [==============================] - 0s 4ms/step - loss: 0.1224 - accuracy: 0.7820 - val_loss: 0.0995 - val_accuracy: 0.8507\n",
            "Epoch 30/300\n",
            "27/27 [==============================] - 0s 4ms/step - loss: 0.1187 - accuracy: 0.7820 - val_loss: 0.0959 - val_accuracy: 0.8507\n",
            "Epoch 31/300\n",
            "27/27 [==============================] - 0s 5ms/step - loss: 0.1155 - accuracy: 0.7820 - val_loss: 0.0922 - val_accuracy: 0.8507\n",
            "Epoch 32/300\n",
            "27/27 [==============================] - 0s 4ms/step - loss: 0.1125 - accuracy: 0.7820 - val_loss: 0.0892 - val_accuracy: 0.8507\n",
            "Epoch 33/300\n",
            "27/27 [==============================] - 0s 4ms/step - loss: 0.1097 - accuracy: 0.7820 - val_loss: 0.0868 - val_accuracy: 0.8507\n",
            "Epoch 34/300\n",
            "27/27 [==============================] - 0s 4ms/step - loss: 0.1074 - accuracy: 0.7820 - val_loss: 0.0845 - val_accuracy: 0.8507\n",
            "Epoch 35/300\n",
            "27/27 [==============================] - 0s 4ms/step - loss: 0.1052 - accuracy: 0.7820 - val_loss: 0.0822 - val_accuracy: 0.8507\n",
            "Epoch 36/300\n",
            "27/27 [==============================] - 0s 4ms/step - loss: 0.1034 - accuracy: 0.7820 - val_loss: 0.0803 - val_accuracy: 0.8507\n",
            "Epoch 37/300\n",
            "27/27 [==============================] - 0s 4ms/step - loss: 0.1015 - accuracy: 0.7820 - val_loss: 0.0787 - val_accuracy: 0.8507\n",
            "Epoch 38/300\n",
            "27/27 [==============================] - 0s 5ms/step - loss: 0.1000 - accuracy: 0.7820 - val_loss: 0.0772 - val_accuracy: 0.8507\n",
            "Epoch 39/300\n",
            "27/27 [==============================] - 0s 4ms/step - loss: 0.0985 - accuracy: 0.7820 - val_loss: 0.0757 - val_accuracy: 0.8507\n",
            "Epoch 40/300\n",
            "27/27 [==============================] - 0s 5ms/step - loss: 0.0972 - accuracy: 0.7820 - val_loss: 0.0745 - val_accuracy: 0.8507\n",
            "Epoch 41/300\n",
            "27/27 [==============================] - 0s 4ms/step - loss: 0.0959 - accuracy: 0.7820 - val_loss: 0.0736 - val_accuracy: 0.8507\n",
            "Epoch 42/300\n",
            "27/27 [==============================] - 0s 5ms/step - loss: 0.0948 - accuracy: 0.7820 - val_loss: 0.0724 - val_accuracy: 0.8507\n",
            "Epoch 43/300\n",
            "27/27 [==============================] - 0s 4ms/step - loss: 0.0937 - accuracy: 0.7820 - val_loss: 0.0716 - val_accuracy: 0.8507\n",
            "Epoch 44/300\n",
            "27/27 [==============================] - 0s 4ms/step - loss: 0.0927 - accuracy: 0.7820 - val_loss: 0.0707 - val_accuracy: 0.8507\n",
            "Epoch 45/300\n",
            "27/27 [==============================] - 0s 4ms/step - loss: 0.0917 - accuracy: 0.7820 - val_loss: 0.0699 - val_accuracy: 0.8507\n",
            "Epoch 46/300\n",
            "27/27 [==============================] - 0s 4ms/step - loss: 0.0909 - accuracy: 0.7820 - val_loss: 0.0692 - val_accuracy: 0.8507\n",
            "Epoch 47/300\n",
            "27/27 [==============================] - 0s 4ms/step - loss: 0.0901 - accuracy: 0.7820 - val_loss: 0.0684 - val_accuracy: 0.8507\n",
            "Epoch 48/300\n",
            "27/27 [==============================] - 0s 4ms/step - loss: 0.0893 - accuracy: 0.7820 - val_loss: 0.0678 - val_accuracy: 0.8507\n",
            "Epoch 49/300\n",
            "27/27 [==============================] - 0s 4ms/step - loss: 0.0885 - accuracy: 0.7820 - val_loss: 0.0672 - val_accuracy: 0.8507\n",
            "Epoch 50/300\n",
            "27/27 [==============================] - 0s 4ms/step - loss: 0.0879 - accuracy: 0.7820 - val_loss: 0.0668 - val_accuracy: 0.8507\n",
            "Epoch 51/300\n",
            "27/27 [==============================] - 0s 4ms/step - loss: 0.0871 - accuracy: 0.7820 - val_loss: 0.0663 - val_accuracy: 0.8507\n",
            "Epoch 52/300\n",
            "27/27 [==============================] - 0s 4ms/step - loss: 0.0864 - accuracy: 0.7820 - val_loss: 0.0657 - val_accuracy: 0.8507\n",
            "Epoch 53/300\n",
            "27/27 [==============================] - 0s 4ms/step - loss: 0.0859 - accuracy: 0.7820 - val_loss: 0.0650 - val_accuracy: 0.8507\n",
            "Epoch 54/300\n",
            "27/27 [==============================] - 0s 4ms/step - loss: 0.0853 - accuracy: 0.7820 - val_loss: 0.0645 - val_accuracy: 0.8507\n",
            "Epoch 55/300\n",
            "27/27 [==============================] - 0s 4ms/step - loss: 0.0847 - accuracy: 0.7820 - val_loss: 0.0641 - val_accuracy: 0.8507\n",
            "Epoch 56/300\n",
            "27/27 [==============================] - 0s 4ms/step - loss: 0.0841 - accuracy: 0.7820 - val_loss: 0.0637 - val_accuracy: 0.8507\n",
            "Epoch 57/300\n",
            "27/27 [==============================] - 0s 4ms/step - loss: 0.0835 - accuracy: 0.7820 - val_loss: 0.0633 - val_accuracy: 0.8507\n",
            "Epoch 58/300\n",
            "27/27 [==============================] - 0s 5ms/step - loss: 0.0829 - accuracy: 0.7820 - val_loss: 0.0629 - val_accuracy: 0.8507\n",
            "Epoch 59/300\n",
            "27/27 [==============================] - 0s 4ms/step - loss: 0.0824 - accuracy: 0.7820 - val_loss: 0.0627 - val_accuracy: 0.8507\n",
            "Epoch 60/300\n",
            "27/27 [==============================] - 0s 4ms/step - loss: 0.0819 - accuracy: 0.7820 - val_loss: 0.0621 - val_accuracy: 0.8507\n",
            "Epoch 61/300\n",
            "27/27 [==============================] - 0s 4ms/step - loss: 0.0815 - accuracy: 0.7820 - val_loss: 0.0619 - val_accuracy: 0.8507\n",
            "Epoch 62/300\n",
            "27/27 [==============================] - 0s 5ms/step - loss: 0.0809 - accuracy: 0.7820 - val_loss: 0.0616 - val_accuracy: 0.8507\n",
            "Epoch 63/300\n",
            "27/27 [==============================] - 0s 4ms/step - loss: 0.0805 - accuracy: 0.7820 - val_loss: 0.0611 - val_accuracy: 0.8507\n",
            "Epoch 64/300\n",
            "27/27 [==============================] - 0s 4ms/step - loss: 0.0798 - accuracy: 0.7820 - val_loss: 0.0610 - val_accuracy: 0.8507\n",
            "Epoch 65/300\n",
            "27/27 [==============================] - 0s 4ms/step - loss: 0.0794 - accuracy: 0.7820 - val_loss: 0.0605 - val_accuracy: 0.8507\n",
            "Epoch 66/300\n",
            "27/27 [==============================] - 0s 4ms/step - loss: 0.0789 - accuracy: 0.7820 - val_loss: 0.0602 - val_accuracy: 0.8507\n",
            "Epoch 67/300\n",
            "27/27 [==============================] - 0s 4ms/step - loss: 0.0784 - accuracy: 0.7820 - val_loss: 0.0599 - val_accuracy: 0.8507\n",
            "Epoch 68/300\n",
            "27/27 [==============================] - 0s 3ms/step - loss: 0.0779 - accuracy: 0.7820 - val_loss: 0.0596 - val_accuracy: 0.8507\n",
            "Epoch 69/300\n",
            "27/27 [==============================] - 0s 5ms/step - loss: 0.0775 - accuracy: 0.7820 - val_loss: 0.0594 - val_accuracy: 0.8507\n",
            "Epoch 70/300\n",
            "27/27 [==============================] - 0s 4ms/step - loss: 0.0770 - accuracy: 0.7820 - val_loss: 0.0589 - val_accuracy: 0.8507\n",
            "Epoch 71/300\n",
            "27/27 [==============================] - 0s 4ms/step - loss: 0.0764 - accuracy: 0.7820 - val_loss: 0.0586 - val_accuracy: 0.8507\n",
            "Epoch 72/300\n",
            "27/27 [==============================] - 0s 6ms/step - loss: 0.0759 - accuracy: 0.7857 - val_loss: 0.0584 - val_accuracy: 0.8507\n",
            "Epoch 73/300\n",
            "27/27 [==============================] - 0s 7ms/step - loss: 0.0754 - accuracy: 0.7857 - val_loss: 0.0581 - val_accuracy: 0.8507\n",
            "Epoch 74/300\n",
            "27/27 [==============================] - 0s 6ms/step - loss: 0.0749 - accuracy: 0.7857 - val_loss: 0.0577 - val_accuracy: 0.8507\n",
            "Epoch 75/300\n",
            "27/27 [==============================] - 0s 6ms/step - loss: 0.0744 - accuracy: 0.7895 - val_loss: 0.0574 - val_accuracy: 0.8507\n",
            "Epoch 76/300\n",
            "27/27 [==============================] - 0s 5ms/step - loss: 0.0738 - accuracy: 0.7932 - val_loss: 0.0571 - val_accuracy: 0.8507\n",
            "Epoch 77/300\n",
            "27/27 [==============================] - 0s 5ms/step - loss: 0.0732 - accuracy: 0.8045 - val_loss: 0.0567 - val_accuracy: 0.8507\n",
            "Epoch 78/300\n",
            "27/27 [==============================] - 0s 6ms/step - loss: 0.0727 - accuracy: 0.8045 - val_loss: 0.0563 - val_accuracy: 0.8507\n",
            "Epoch 79/300\n",
            "27/27 [==============================] - 0s 6ms/step - loss: 0.0721 - accuracy: 0.8195 - val_loss: 0.0558 - val_accuracy: 0.8657\n",
            "Epoch 80/300\n",
            "27/27 [==============================] - 0s 6ms/step - loss: 0.0714 - accuracy: 0.8158 - val_loss: 0.0554 - val_accuracy: 0.8806\n",
            "Epoch 81/300\n",
            "27/27 [==============================] - 0s 5ms/step - loss: 0.0709 - accuracy: 0.8158 - val_loss: 0.0548 - val_accuracy: 0.8955\n",
            "Epoch 82/300\n",
            "27/27 [==============================] - 0s 6ms/step - loss: 0.0703 - accuracy: 0.8271 - val_loss: 0.0546 - val_accuracy: 0.9104\n",
            "Epoch 83/300\n",
            "27/27 [==============================] - 0s 6ms/step - loss: 0.0695 - accuracy: 0.8383 - val_loss: 0.0540 - val_accuracy: 0.9104\n",
            "Epoch 84/300\n",
            "27/27 [==============================] - 0s 6ms/step - loss: 0.0688 - accuracy: 0.8421 - val_loss: 0.0536 - val_accuracy: 0.9104\n",
            "Epoch 85/300\n",
            "27/27 [==============================] - 0s 5ms/step - loss: 0.0682 - accuracy: 0.8534 - val_loss: 0.0532 - val_accuracy: 0.9104\n",
            "Epoch 86/300\n",
            "27/27 [==============================] - 0s 8ms/step - loss: 0.0675 - accuracy: 0.8571 - val_loss: 0.0526 - val_accuracy: 0.9104\n",
            "Epoch 87/300\n",
            "27/27 [==============================] - 0s 6ms/step - loss: 0.0669 - accuracy: 0.8571 - val_loss: 0.0522 - val_accuracy: 0.9104\n",
            "Epoch 88/300\n",
            "27/27 [==============================] - 0s 6ms/step - loss: 0.0663 - accuracy: 0.8571 - val_loss: 0.0517 - val_accuracy: 0.9104\n",
            "Epoch 89/300\n",
            "27/27 [==============================] - 0s 5ms/step - loss: 0.0657 - accuracy: 0.8797 - val_loss: 0.0513 - val_accuracy: 0.9104\n",
            "Epoch 90/300\n",
            "27/27 [==============================] - 0s 5ms/step - loss: 0.0650 - accuracy: 0.8797 - val_loss: 0.0508 - val_accuracy: 0.9104\n",
            "Epoch 91/300\n",
            "27/27 [==============================] - 0s 6ms/step - loss: 0.0644 - accuracy: 0.8872 - val_loss: 0.0505 - val_accuracy: 0.9104\n",
            "Epoch 92/300\n",
            "27/27 [==============================] - 0s 5ms/step - loss: 0.0638 - accuracy: 0.8910 - val_loss: 0.0500 - val_accuracy: 0.9104\n",
            "Epoch 93/300\n",
            "27/27 [==============================] - 0s 6ms/step - loss: 0.0634 - accuracy: 0.8910 - val_loss: 0.0496 - val_accuracy: 0.9104\n",
            "Epoch 94/300\n",
            "27/27 [==============================] - 0s 6ms/step - loss: 0.0629 - accuracy: 0.8985 - val_loss: 0.0493 - val_accuracy: 0.9104\n",
            "Epoch 95/300\n",
            "27/27 [==============================] - 0s 6ms/step - loss: 0.0621 - accuracy: 0.9060 - val_loss: 0.0488 - val_accuracy: 0.9104\n",
            "Epoch 96/300\n",
            "27/27 [==============================] - 0s 7ms/step - loss: 0.0617 - accuracy: 0.8985 - val_loss: 0.0484 - val_accuracy: 0.9104\n",
            "Epoch 97/300\n",
            "27/27 [==============================] - 0s 5ms/step - loss: 0.0610 - accuracy: 0.9023 - val_loss: 0.0481 - val_accuracy: 0.9104\n",
            "Epoch 98/300\n",
            "27/27 [==============================] - 0s 5ms/step - loss: 0.0603 - accuracy: 0.9135 - val_loss: 0.0476 - val_accuracy: 0.9104\n",
            "Epoch 99/300\n",
            "27/27 [==============================] - 0s 6ms/step - loss: 0.0598 - accuracy: 0.9135 - val_loss: 0.0472 - val_accuracy: 0.9104\n",
            "Epoch 100/300\n",
            "27/27 [==============================] - 0s 5ms/step - loss: 0.0593 - accuracy: 0.9135 - val_loss: 0.0469 - val_accuracy: 0.9104\n",
            "Epoch 101/300\n",
            "27/27 [==============================] - 0s 3ms/step - loss: 0.0587 - accuracy: 0.9211 - val_loss: 0.0464 - val_accuracy: 0.9104\n",
            "Epoch 102/300\n",
            "27/27 [==============================] - 0s 4ms/step - loss: 0.0581 - accuracy: 0.9173 - val_loss: 0.0460 - val_accuracy: 0.9104\n",
            "Epoch 103/300\n",
            "27/27 [==============================] - 0s 4ms/step - loss: 0.0575 - accuracy: 0.9248 - val_loss: 0.0460 - val_accuracy: 0.9104\n",
            "Epoch 104/300\n",
            "27/27 [==============================] - 0s 3ms/step - loss: 0.0571 - accuracy: 0.9286 - val_loss: 0.0456 - val_accuracy: 0.9104\n",
            "Epoch 105/300\n",
            "27/27 [==============================] - 0s 4ms/step - loss: 0.0565 - accuracy: 0.9248 - val_loss: 0.0450 - val_accuracy: 0.9104\n",
            "Epoch 106/300\n",
            "27/27 [==============================] - 0s 3ms/step - loss: 0.0560 - accuracy: 0.9286 - val_loss: 0.0446 - val_accuracy: 0.9104\n",
            "Epoch 107/300\n",
            "27/27 [==============================] - 0s 4ms/step - loss: 0.0553 - accuracy: 0.9398 - val_loss: 0.0444 - val_accuracy: 0.9254\n",
            "Epoch 108/300\n",
            "27/27 [==============================] - 0s 4ms/step - loss: 0.0550 - accuracy: 0.9286 - val_loss: 0.0439 - val_accuracy: 0.9254\n",
            "Epoch 109/300\n",
            "27/27 [==============================] - 0s 4ms/step - loss: 0.0542 - accuracy: 0.9398 - val_loss: 0.0436 - val_accuracy: 0.9254\n",
            "Epoch 110/300\n",
            "27/27 [==============================] - 0s 4ms/step - loss: 0.0537 - accuracy: 0.9361 - val_loss: 0.0431 - val_accuracy: 0.9254\n",
            "Epoch 111/300\n",
            "27/27 [==============================] - 0s 4ms/step - loss: 0.0531 - accuracy: 0.9436 - val_loss: 0.0429 - val_accuracy: 0.9254\n",
            "Epoch 112/300\n",
            "27/27 [==============================] - 0s 4ms/step - loss: 0.0526 - accuracy: 0.9436 - val_loss: 0.0424 - val_accuracy: 0.9254\n",
            "Epoch 113/300\n",
            "27/27 [==============================] - 0s 4ms/step - loss: 0.0522 - accuracy: 0.9436 - val_loss: 0.0419 - val_accuracy: 0.9254\n",
            "Epoch 114/300\n",
            "27/27 [==============================] - 0s 4ms/step - loss: 0.0515 - accuracy: 0.9436 - val_loss: 0.0418 - val_accuracy: 0.9403\n",
            "Epoch 115/300\n",
            "27/27 [==============================] - 0s 4ms/step - loss: 0.0510 - accuracy: 0.9474 - val_loss: 0.0411 - val_accuracy: 0.9254\n",
            "Epoch 116/300\n",
            "27/27 [==============================] - 0s 3ms/step - loss: 0.0505 - accuracy: 0.9398 - val_loss: 0.0408 - val_accuracy: 0.9403\n",
            "Epoch 117/300\n",
            "27/27 [==============================] - 0s 4ms/step - loss: 0.0501 - accuracy: 0.9436 - val_loss: 0.0404 - val_accuracy: 0.9403\n",
            "Epoch 118/300\n",
            "27/27 [==============================] - 0s 4ms/step - loss: 0.0493 - accuracy: 0.9511 - val_loss: 0.0401 - val_accuracy: 0.9403\n",
            "Epoch 119/300\n",
            "27/27 [==============================] - 0s 3ms/step - loss: 0.0489 - accuracy: 0.9511 - val_loss: 0.0396 - val_accuracy: 0.9403\n",
            "Epoch 120/300\n",
            "27/27 [==============================] - 0s 4ms/step - loss: 0.0483 - accuracy: 0.9474 - val_loss: 0.0392 - val_accuracy: 0.9403\n",
            "Epoch 121/300\n",
            "27/27 [==============================] - 0s 3ms/step - loss: 0.0480 - accuracy: 0.9549 - val_loss: 0.0389 - val_accuracy: 0.9403\n",
            "Epoch 122/300\n",
            "27/27 [==============================] - 0s 3ms/step - loss: 0.0474 - accuracy: 0.9511 - val_loss: 0.0385 - val_accuracy: 0.9403\n",
            "Epoch 123/300\n",
            "27/27 [==============================] - 0s 4ms/step - loss: 0.0467 - accuracy: 0.9549 - val_loss: 0.0383 - val_accuracy: 0.9552\n",
            "Epoch 124/300\n",
            "27/27 [==============================] - 0s 3ms/step - loss: 0.0462 - accuracy: 0.9549 - val_loss: 0.0377 - val_accuracy: 0.9403\n",
            "Epoch 125/300\n",
            "27/27 [==============================] - 0s 4ms/step - loss: 0.0456 - accuracy: 0.9549 - val_loss: 0.0374 - val_accuracy: 0.9403\n",
            "Epoch 126/300\n",
            "27/27 [==============================] - 0s 4ms/step - loss: 0.0453 - accuracy: 0.9586 - val_loss: 0.0371 - val_accuracy: 0.9552\n",
            "Epoch 127/300\n",
            "27/27 [==============================] - 0s 4ms/step - loss: 0.0447 - accuracy: 0.9549 - val_loss: 0.0365 - val_accuracy: 0.9403\n",
            "Epoch 128/300\n",
            "27/27 [==============================] - 0s 6ms/step - loss: 0.0442 - accuracy: 0.9586 - val_loss: 0.0363 - val_accuracy: 0.9552\n",
            "Epoch 129/300\n",
            "27/27 [==============================] - 0s 4ms/step - loss: 0.0436 - accuracy: 0.9586 - val_loss: 0.0358 - val_accuracy: 0.9403\n",
            "Epoch 130/300\n",
            "27/27 [==============================] - 0s 4ms/step - loss: 0.0432 - accuracy: 0.9586 - val_loss: 0.0356 - val_accuracy: 0.9552\n",
            "Epoch 131/300\n",
            "27/27 [==============================] - 0s 4ms/step - loss: 0.0427 - accuracy: 0.9586 - val_loss: 0.0350 - val_accuracy: 0.9552\n",
            "Epoch 132/300\n",
            "27/27 [==============================] - 0s 4ms/step - loss: 0.0425 - accuracy: 0.9586 - val_loss: 0.0349 - val_accuracy: 0.9552\n",
            "Epoch 133/300\n",
            "27/27 [==============================] - 0s 3ms/step - loss: 0.0418 - accuracy: 0.9586 - val_loss: 0.0343 - val_accuracy: 0.9552\n",
            "Epoch 134/300\n",
            "27/27 [==============================] - 0s 4ms/step - loss: 0.0410 - accuracy: 0.9624 - val_loss: 0.0339 - val_accuracy: 0.9552\n",
            "Epoch 135/300\n",
            "27/27 [==============================] - 0s 4ms/step - loss: 0.0406 - accuracy: 0.9586 - val_loss: 0.0336 - val_accuracy: 0.9552\n",
            "Epoch 136/300\n",
            "27/27 [==============================] - 0s 4ms/step - loss: 0.0400 - accuracy: 0.9662 - val_loss: 0.0331 - val_accuracy: 0.9552\n",
            "Epoch 137/300\n",
            "27/27 [==============================] - 0s 4ms/step - loss: 0.0395 - accuracy: 0.9624 - val_loss: 0.0328 - val_accuracy: 0.9552\n",
            "Epoch 138/300\n",
            "27/27 [==============================] - 0s 4ms/step - loss: 0.0390 - accuracy: 0.9662 - val_loss: 0.0324 - val_accuracy: 0.9552\n",
            "Epoch 139/300\n",
            "27/27 [==============================] - 0s 4ms/step - loss: 0.0385 - accuracy: 0.9662 - val_loss: 0.0320 - val_accuracy: 0.9552\n",
            "Epoch 140/300\n",
            "27/27 [==============================] - 0s 4ms/step - loss: 0.0380 - accuracy: 0.9624 - val_loss: 0.0317 - val_accuracy: 0.9552\n",
            "Epoch 141/300\n",
            "27/27 [==============================] - 0s 4ms/step - loss: 0.0377 - accuracy: 0.9662 - val_loss: 0.0312 - val_accuracy: 0.9552\n",
            "Epoch 142/300\n",
            "27/27 [==============================] - 0s 3ms/step - loss: 0.0373 - accuracy: 0.9586 - val_loss: 0.0310 - val_accuracy: 0.9552\n",
            "Epoch 143/300\n",
            "27/27 [==============================] - 0s 4ms/step - loss: 0.0368 - accuracy: 0.9662 - val_loss: 0.0305 - val_accuracy: 0.9701\n",
            "Epoch 144/300\n",
            "27/27 [==============================] - 0s 4ms/step - loss: 0.0363 - accuracy: 0.9662 - val_loss: 0.0302 - val_accuracy: 0.9552\n",
            "Epoch 145/300\n",
            "27/27 [==============================] - 0s 4ms/step - loss: 0.0357 - accuracy: 0.9662 - val_loss: 0.0298 - val_accuracy: 0.9701\n",
            "Epoch 146/300\n",
            "27/27 [==============================] - 0s 4ms/step - loss: 0.0352 - accuracy: 0.9662 - val_loss: 0.0294 - val_accuracy: 0.9701\n",
            "Epoch 147/300\n",
            "27/27 [==============================] - 0s 5ms/step - loss: 0.0348 - accuracy: 0.9662 - val_loss: 0.0291 - val_accuracy: 0.9701\n",
            "Epoch 148/300\n",
            "27/27 [==============================] - 0s 5ms/step - loss: 0.0347 - accuracy: 0.9662 - val_loss: 0.0287 - val_accuracy: 0.9701\n",
            "Epoch 149/300\n",
            "27/27 [==============================] - 0s 4ms/step - loss: 0.0340 - accuracy: 0.9737 - val_loss: 0.0283 - val_accuracy: 0.9701\n",
            "Epoch 150/300\n",
            "27/27 [==============================] - 0s 4ms/step - loss: 0.0335 - accuracy: 0.9699 - val_loss: 0.0281 - val_accuracy: 0.9701\n",
            "Epoch 151/300\n",
            "27/27 [==============================] - 0s 4ms/step - loss: 0.0330 - accuracy: 0.9737 - val_loss: 0.0276 - val_accuracy: 0.9701\n",
            "Epoch 152/300\n",
            "27/27 [==============================] - 0s 3ms/step - loss: 0.0325 - accuracy: 0.9737 - val_loss: 0.0273 - val_accuracy: 0.9701\n",
            "Epoch 153/300\n",
            "27/27 [==============================] - 0s 4ms/step - loss: 0.0321 - accuracy: 0.9774 - val_loss: 0.0270 - val_accuracy: 0.9701\n",
            "Epoch 154/300\n",
            "27/27 [==============================] - 0s 4ms/step - loss: 0.0317 - accuracy: 0.9737 - val_loss: 0.0266 - val_accuracy: 0.9701\n",
            "Epoch 155/300\n",
            "27/27 [==============================] - 0s 4ms/step - loss: 0.0314 - accuracy: 0.9737 - val_loss: 0.0262 - val_accuracy: 0.9701\n",
            "Epoch 156/300\n",
            "27/27 [==============================] - 0s 4ms/step - loss: 0.0309 - accuracy: 0.9737 - val_loss: 0.0259 - val_accuracy: 0.9701\n",
            "Epoch 157/300\n",
            "27/27 [==============================] - 0s 4ms/step - loss: 0.0304 - accuracy: 0.9774 - val_loss: 0.0256 - val_accuracy: 0.9701\n",
            "Epoch 158/300\n",
            "27/27 [==============================] - 0s 4ms/step - loss: 0.0300 - accuracy: 0.9774 - val_loss: 0.0253 - val_accuracy: 0.9701\n",
            "Epoch 159/300\n",
            "27/27 [==============================] - 0s 4ms/step - loss: 0.0296 - accuracy: 0.9774 - val_loss: 0.0249 - val_accuracy: 0.9701\n",
            "Epoch 160/300\n",
            "27/27 [==============================] - 0s 4ms/step - loss: 0.0293 - accuracy: 0.9774 - val_loss: 0.0246 - val_accuracy: 0.9701\n",
            "Epoch 161/300\n",
            "27/27 [==============================] - 0s 4ms/step - loss: 0.0288 - accuracy: 0.9774 - val_loss: 0.0243 - val_accuracy: 0.9701\n",
            "Epoch 162/300\n",
            "27/27 [==============================] - 0s 4ms/step - loss: 0.0284 - accuracy: 0.9774 - val_loss: 0.0239 - val_accuracy: 0.9701\n",
            "Epoch 163/300\n",
            "27/27 [==============================] - 0s 4ms/step - loss: 0.0281 - accuracy: 0.9774 - val_loss: 0.0236 - val_accuracy: 0.9701\n",
            "Epoch 164/300\n",
            "27/27 [==============================] - 0s 4ms/step - loss: 0.0277 - accuracy: 0.9850 - val_loss: 0.0234 - val_accuracy: 0.9701\n",
            "Epoch 165/300\n",
            "27/27 [==============================] - 0s 4ms/step - loss: 0.0274 - accuracy: 0.9850 - val_loss: 0.0231 - val_accuracy: 0.9701\n",
            "Epoch 166/300\n",
            "27/27 [==============================] - 0s 4ms/step - loss: 0.0271 - accuracy: 0.9774 - val_loss: 0.0228 - val_accuracy: 0.9701\n",
            "Epoch 167/300\n",
            "27/27 [==============================] - 0s 4ms/step - loss: 0.0267 - accuracy: 0.9850 - val_loss: 0.0225 - val_accuracy: 0.9701\n",
            "Epoch 168/300\n",
            "27/27 [==============================] - 0s 4ms/step - loss: 0.0263 - accuracy: 0.9774 - val_loss: 0.0222 - val_accuracy: 0.9701\n",
            "Epoch 169/300\n",
            "27/27 [==============================] - 0s 4ms/step - loss: 0.0259 - accuracy: 0.9850 - val_loss: 0.0219 - val_accuracy: 0.9701\n",
            "Epoch 170/300\n",
            "27/27 [==============================] - 0s 5ms/step - loss: 0.0256 - accuracy: 0.9850 - val_loss: 0.0217 - val_accuracy: 0.9701\n",
            "Epoch 171/300\n",
            "27/27 [==============================] - 0s 4ms/step - loss: 0.0254 - accuracy: 0.9812 - val_loss: 0.0213 - val_accuracy: 0.9851\n",
            "Epoch 172/300\n",
            "27/27 [==============================] - 0s 4ms/step - loss: 0.0248 - accuracy: 0.9887 - val_loss: 0.0210 - val_accuracy: 0.9851\n",
            "Epoch 173/300\n",
            "27/27 [==============================] - 0s 4ms/step - loss: 0.0246 - accuracy: 0.9887 - val_loss: 0.0208 - val_accuracy: 0.9851\n",
            "Epoch 174/300\n",
            "27/27 [==============================] - 0s 4ms/step - loss: 0.0242 - accuracy: 0.9850 - val_loss: 0.0205 - val_accuracy: 0.9851\n",
            "Epoch 175/300\n",
            "27/27 [==============================] - 0s 5ms/step - loss: 0.0239 - accuracy: 0.9887 - val_loss: 0.0203 - val_accuracy: 0.9851\n",
            "Epoch 176/300\n",
            "27/27 [==============================] - 0s 5ms/step - loss: 0.0237 - accuracy: 0.9887 - val_loss: 0.0201 - val_accuracy: 0.9851\n",
            "Epoch 177/300\n",
            "27/27 [==============================] - 0s 4ms/step - loss: 0.0234 - accuracy: 0.9850 - val_loss: 0.0197 - val_accuracy: 0.9851\n",
            "Epoch 178/300\n",
            "27/27 [==============================] - 0s 5ms/step - loss: 0.0231 - accuracy: 0.9850 - val_loss: 0.0195 - val_accuracy: 0.9851\n",
            "Epoch 179/300\n",
            "27/27 [==============================] - 0s 4ms/step - loss: 0.0227 - accuracy: 0.9887 - val_loss: 0.0193 - val_accuracy: 0.9851\n",
            "Epoch 180/300\n",
            "27/27 [==============================] - 0s 4ms/step - loss: 0.0224 - accuracy: 0.9887 - val_loss: 0.0191 - val_accuracy: 0.9851\n",
            "Epoch 181/300\n",
            "27/27 [==============================] - 0s 4ms/step - loss: 0.0221 - accuracy: 0.9887 - val_loss: 0.0189 - val_accuracy: 0.9851\n",
            "Epoch 182/300\n",
            "27/27 [==============================] - 0s 4ms/step - loss: 0.0222 - accuracy: 0.9850 - val_loss: 0.0185 - val_accuracy: 0.9851\n",
            "Epoch 183/300\n",
            "27/27 [==============================] - 0s 4ms/step - loss: 0.0216 - accuracy: 0.9887 - val_loss: 0.0184 - val_accuracy: 0.9851\n",
            "Epoch 184/300\n",
            "27/27 [==============================] - 0s 4ms/step - loss: 0.0212 - accuracy: 0.9887 - val_loss: 0.0180 - val_accuracy: 0.9851\n",
            "Epoch 185/300\n",
            "27/27 [==============================] - 0s 5ms/step - loss: 0.0210 - accuracy: 0.9887 - val_loss: 0.0179 - val_accuracy: 0.9851\n",
            "Epoch 186/300\n",
            "27/27 [==============================] - 0s 6ms/step - loss: 0.0207 - accuracy: 0.9887 - val_loss: 0.0176 - val_accuracy: 0.9851\n",
            "Epoch 187/300\n",
            "27/27 [==============================] - 0s 6ms/step - loss: 0.0207 - accuracy: 0.9887 - val_loss: 0.0175 - val_accuracy: 0.9851\n",
            "Epoch 188/300\n",
            "27/27 [==============================] - 0s 5ms/step - loss: 0.0202 - accuracy: 0.9887 - val_loss: 0.0172 - val_accuracy: 0.9851\n",
            "Epoch 189/300\n",
            "27/27 [==============================] - 0s 6ms/step - loss: 0.0199 - accuracy: 0.9887 - val_loss: 0.0170 - val_accuracy: 0.9851\n",
            "Epoch 190/300\n",
            "27/27 [==============================] - 0s 5ms/step - loss: 0.0196 - accuracy: 0.9887 - val_loss: 0.0167 - val_accuracy: 0.9851\n",
            "Epoch 191/300\n",
            "27/27 [==============================] - 0s 6ms/step - loss: 0.0194 - accuracy: 0.9887 - val_loss: 0.0165 - val_accuracy: 0.9851\n",
            "Epoch 192/300\n",
            "27/27 [==============================] - 0s 7ms/step - loss: 0.0191 - accuracy: 0.9887 - val_loss: 0.0164 - val_accuracy: 0.9851\n",
            "Epoch 193/300\n",
            "27/27 [==============================] - 0s 6ms/step - loss: 0.0190 - accuracy: 0.9887 - val_loss: 0.0163 - val_accuracy: 0.9851\n",
            "Epoch 194/300\n",
            "27/27 [==============================] - 0s 6ms/step - loss: 0.0187 - accuracy: 0.9887 - val_loss: 0.0159 - val_accuracy: 0.9851\n",
            "Epoch 195/300\n",
            "27/27 [==============================] - 0s 5ms/step - loss: 0.0184 - accuracy: 0.9887 - val_loss: 0.0158 - val_accuracy: 0.9851\n",
            "Epoch 196/300\n",
            "27/27 [==============================] - 0s 7ms/step - loss: 0.0183 - accuracy: 0.9887 - val_loss: 0.0156 - val_accuracy: 0.9851\n",
            "Epoch 197/300\n",
            "27/27 [==============================] - 0s 7ms/step - loss: 0.0181 - accuracy: 0.9887 - val_loss: 0.0155 - val_accuracy: 0.9851\n",
            "Epoch 198/300\n",
            "27/27 [==============================] - 0s 6ms/step - loss: 0.0180 - accuracy: 0.9887 - val_loss: 0.0153 - val_accuracy: 0.9851\n",
            "Epoch 199/300\n",
            "27/27 [==============================] - 0s 6ms/step - loss: 0.0175 - accuracy: 0.9887 - val_loss: 0.0151 - val_accuracy: 0.9851\n",
            "Epoch 200/300\n",
            "27/27 [==============================] - 0s 6ms/step - loss: 0.0173 - accuracy: 0.9887 - val_loss: 0.0149 - val_accuracy: 0.9851\n",
            "Epoch 201/300\n",
            "27/27 [==============================] - 0s 6ms/step - loss: 0.0171 - accuracy: 0.9887 - val_loss: 0.0147 - val_accuracy: 0.9851\n",
            "Epoch 202/300\n",
            "27/27 [==============================] - 0s 6ms/step - loss: 0.0170 - accuracy: 0.9887 - val_loss: 0.0145 - val_accuracy: 0.9851\n",
            "Epoch 203/300\n",
            "27/27 [==============================] - 0s 6ms/step - loss: 0.0168 - accuracy: 0.9887 - val_loss: 0.0143 - val_accuracy: 0.9851\n",
            "Epoch 204/300\n",
            "27/27 [==============================] - 0s 7ms/step - loss: 0.0165 - accuracy: 0.9887 - val_loss: 0.0143 - val_accuracy: 0.9851\n",
            "Epoch 205/300\n",
            "27/27 [==============================] - 0s 6ms/step - loss: 0.0163 - accuracy: 0.9887 - val_loss: 0.0141 - val_accuracy: 0.9851\n",
            "Epoch 206/300\n",
            "27/27 [==============================] - 0s 6ms/step - loss: 0.0161 - accuracy: 0.9887 - val_loss: 0.0140 - val_accuracy: 0.9851\n",
            "Epoch 207/300\n",
            "27/27 [==============================] - 0s 5ms/step - loss: 0.0159 - accuracy: 0.9887 - val_loss: 0.0137 - val_accuracy: 0.9851\n",
            "Epoch 208/300\n",
            "27/27 [==============================] - 0s 5ms/step - loss: 0.0158 - accuracy: 0.9887 - val_loss: 0.0136 - val_accuracy: 0.9851\n",
            "Epoch 209/300\n",
            "27/27 [==============================] - 0s 6ms/step - loss: 0.0156 - accuracy: 0.9925 - val_loss: 0.0135 - val_accuracy: 0.9851\n",
            "Epoch 210/300\n",
            "27/27 [==============================] - 0s 6ms/step - loss: 0.0155 - accuracy: 0.9887 - val_loss: 0.0134 - val_accuracy: 0.9851\n",
            "Epoch 211/300\n",
            "27/27 [==============================] - 0s 7ms/step - loss: 0.0152 - accuracy: 0.9887 - val_loss: 0.0131 - val_accuracy: 0.9851\n",
            "Epoch 212/300\n",
            "27/27 [==============================] - 0s 6ms/step - loss: 0.0151 - accuracy: 0.9887 - val_loss: 0.0130 - val_accuracy: 0.9851\n",
            "Epoch 213/300\n",
            "27/27 [==============================] - 0s 6ms/step - loss: 0.0150 - accuracy: 0.9925 - val_loss: 0.0129 - val_accuracy: 0.9851\n",
            "Epoch 214/300\n",
            "27/27 [==============================] - 0s 5ms/step - loss: 0.0146 - accuracy: 0.9887 - val_loss: 0.0127 - val_accuracy: 0.9851\n",
            "Epoch 215/300\n",
            "27/27 [==============================] - 0s 5ms/step - loss: 0.0145 - accuracy: 0.9887 - val_loss: 0.0127 - val_accuracy: 0.9851\n",
            "Epoch 216/300\n",
            "27/27 [==============================] - 0s 4ms/step - loss: 0.0143 - accuracy: 0.9887 - val_loss: 0.0125 - val_accuracy: 0.9851\n",
            "Epoch 217/300\n",
            "27/27 [==============================] - 0s 5ms/step - loss: 0.0142 - accuracy: 0.9887 - val_loss: 0.0123 - val_accuracy: 0.9851\n",
            "Epoch 218/300\n",
            "27/27 [==============================] - 0s 5ms/step - loss: 0.0142 - accuracy: 0.9887 - val_loss: 0.0122 - val_accuracy: 0.9851\n",
            "Epoch 219/300\n",
            "27/27 [==============================] - 0s 5ms/step - loss: 0.0139 - accuracy: 0.9925 - val_loss: 0.0121 - val_accuracy: 0.9851\n",
            "Epoch 220/300\n",
            "27/27 [==============================] - 0s 5ms/step - loss: 0.0137 - accuracy: 0.9925 - val_loss: 0.0119 - val_accuracy: 0.9851\n",
            "Epoch 221/300\n",
            "27/27 [==============================] - 0s 5ms/step - loss: 0.0137 - accuracy: 0.9925 - val_loss: 0.0120 - val_accuracy: 0.9851\n",
            "Epoch 222/300\n",
            "27/27 [==============================] - 0s 4ms/step - loss: 0.0134 - accuracy: 0.9887 - val_loss: 0.0117 - val_accuracy: 0.9851\n",
            "Epoch 223/300\n",
            "27/27 [==============================] - 0s 4ms/step - loss: 0.0134 - accuracy: 0.9887 - val_loss: 0.0116 - val_accuracy: 0.9851\n",
            "Epoch 224/300\n",
            "27/27 [==============================] - 0s 5ms/step - loss: 0.0130 - accuracy: 0.9925 - val_loss: 0.0114 - val_accuracy: 0.9851\n",
            "Epoch 225/300\n",
            "27/27 [==============================] - 0s 4ms/step - loss: 0.0130 - accuracy: 0.9887 - val_loss: 0.0114 - val_accuracy: 0.9851\n",
            "Epoch 226/300\n",
            "27/27 [==============================] - 0s 5ms/step - loss: 0.0128 - accuracy: 0.9925 - val_loss: 0.0112 - val_accuracy: 0.9851\n",
            "Epoch 227/300\n",
            "27/27 [==============================] - 0s 5ms/step - loss: 0.0126 - accuracy: 0.9925 - val_loss: 0.0113 - val_accuracy: 0.9851\n",
            "Epoch 228/300\n",
            "27/27 [==============================] - 0s 5ms/step - loss: 0.0125 - accuracy: 0.9925 - val_loss: 0.0111 - val_accuracy: 0.9851\n",
            "Epoch 229/300\n",
            "27/27 [==============================] - 0s 5ms/step - loss: 0.0124 - accuracy: 0.9925 - val_loss: 0.0109 - val_accuracy: 0.9851\n",
            "Epoch 230/300\n",
            "27/27 [==============================] - 0s 4ms/step - loss: 0.0122 - accuracy: 0.9925 - val_loss: 0.0108 - val_accuracy: 0.9851\n",
            "Epoch 231/300\n",
            "27/27 [==============================] - 0s 5ms/step - loss: 0.0121 - accuracy: 0.9925 - val_loss: 0.0107 - val_accuracy: 0.9851\n",
            "Epoch 232/300\n",
            "27/27 [==============================] - 0s 5ms/step - loss: 0.0120 - accuracy: 0.9962 - val_loss: 0.0106 - val_accuracy: 0.9851\n",
            "Epoch 233/300\n",
            "27/27 [==============================] - 0s 4ms/step - loss: 0.0118 - accuracy: 0.9925 - val_loss: 0.0105 - val_accuracy: 0.9851\n",
            "Epoch 234/300\n",
            "27/27 [==============================] - 0s 4ms/step - loss: 0.0117 - accuracy: 0.9962 - val_loss: 0.0104 - val_accuracy: 0.9851\n",
            "Epoch 235/300\n",
            "27/27 [==============================] - 0s 3ms/step - loss: 0.0117 - accuracy: 0.9962 - val_loss: 0.0103 - val_accuracy: 0.9851\n",
            "Epoch 236/300\n",
            "27/27 [==============================] - 0s 5ms/step - loss: 0.0116 - accuracy: 0.9962 - val_loss: 0.0101 - val_accuracy: 0.9851\n",
            "Epoch 237/300\n",
            "27/27 [==============================] - 0s 4ms/step - loss: 0.0114 - accuracy: 0.9962 - val_loss: 0.0101 - val_accuracy: 0.9851\n",
            "Epoch 238/300\n",
            "27/27 [==============================] - 0s 4ms/step - loss: 0.0112 - accuracy: 0.9962 - val_loss: 0.0100 - val_accuracy: 0.9851\n",
            "Epoch 239/300\n",
            "27/27 [==============================] - 0s 3ms/step - loss: 0.0111 - accuracy: 0.9962 - val_loss: 0.0099 - val_accuracy: 0.9851\n",
            "Epoch 240/300\n",
            "27/27 [==============================] - 0s 4ms/step - loss: 0.0110 - accuracy: 0.9962 - val_loss: 0.0098 - val_accuracy: 0.9851\n",
            "Epoch 241/300\n",
            "27/27 [==============================] - 0s 4ms/step - loss: 0.0109 - accuracy: 0.9962 - val_loss: 0.0096 - val_accuracy: 0.9851\n",
            "Epoch 242/300\n",
            "27/27 [==============================] - 0s 4ms/step - loss: 0.0108 - accuracy: 0.9962 - val_loss: 0.0097 - val_accuracy: 0.9851\n",
            "Epoch 243/300\n",
            "27/27 [==============================] - 0s 4ms/step - loss: 0.0107 - accuracy: 0.9962 - val_loss: 0.0095 - val_accuracy: 0.9851\n",
            "Epoch 244/300\n",
            "27/27 [==============================] - 0s 4ms/step - loss: 0.0106 - accuracy: 0.9962 - val_loss: 0.0094 - val_accuracy: 0.9851\n",
            "Epoch 245/300\n",
            "27/27 [==============================] - 0s 4ms/step - loss: 0.0104 - accuracy: 0.9962 - val_loss: 0.0094 - val_accuracy: 0.9851\n",
            "Epoch 246/300\n",
            "27/27 [==============================] - 0s 4ms/step - loss: 0.0104 - accuracy: 0.9962 - val_loss: 0.0093 - val_accuracy: 0.9851\n",
            "Epoch 247/300\n",
            "27/27 [==============================] - 0s 4ms/step - loss: 0.0102 - accuracy: 0.9962 - val_loss: 0.0092 - val_accuracy: 0.9851\n",
            "Epoch 248/300\n",
            "27/27 [==============================] - 0s 4ms/step - loss: 0.0103 - accuracy: 0.9962 - val_loss: 0.0091 - val_accuracy: 0.9851\n",
            "Epoch 249/300\n",
            "27/27 [==============================] - 0s 5ms/step - loss: 0.0100 - accuracy: 0.9962 - val_loss: 0.0090 - val_accuracy: 0.9851\n",
            "Epoch 250/300\n",
            "27/27 [==============================] - 0s 5ms/step - loss: 0.0100 - accuracy: 0.9962 - val_loss: 0.0090 - val_accuracy: 0.9851\n",
            "Epoch 251/300\n",
            "27/27 [==============================] - 0s 4ms/step - loss: 0.0098 - accuracy: 0.9962 - val_loss: 0.0088 - val_accuracy: 0.9851\n",
            "Epoch 252/300\n",
            "27/27 [==============================] - 0s 5ms/step - loss: 0.0097 - accuracy: 0.9962 - val_loss: 0.0088 - val_accuracy: 0.9851\n",
            "Epoch 253/300\n",
            "27/27 [==============================] - 0s 4ms/step - loss: 0.0097 - accuracy: 0.9962 - val_loss: 0.0087 - val_accuracy: 0.9851\n",
            "Epoch 254/300\n",
            "27/27 [==============================] - 0s 4ms/step - loss: 0.0095 - accuracy: 0.9962 - val_loss: 0.0086 - val_accuracy: 0.9851\n",
            "Epoch 255/300\n",
            "27/27 [==============================] - 0s 4ms/step - loss: 0.0094 - accuracy: 0.9962 - val_loss: 0.0086 - val_accuracy: 0.9851\n",
            "Epoch 256/300\n",
            "27/27 [==============================] - 0s 4ms/step - loss: 0.0094 - accuracy: 0.9962 - val_loss: 0.0085 - val_accuracy: 0.9851\n",
            "Epoch 257/300\n",
            "27/27 [==============================] - 0s 4ms/step - loss: 0.0093 - accuracy: 0.9962 - val_loss: 0.0084 - val_accuracy: 0.9851\n",
            "Epoch 258/300\n",
            "27/27 [==============================] - 0s 4ms/step - loss: 0.0092 - accuracy: 0.9962 - val_loss: 0.0084 - val_accuracy: 0.9851\n",
            "Epoch 259/300\n",
            "27/27 [==============================] - 0s 4ms/step - loss: 0.0091 - accuracy: 0.9962 - val_loss: 0.0083 - val_accuracy: 0.9851\n",
            "Epoch 260/300\n",
            "27/27 [==============================] - 0s 4ms/step - loss: 0.0091 - accuracy: 0.9962 - val_loss: 0.0082 - val_accuracy: 0.9851\n",
            "Epoch 261/300\n",
            "27/27 [==============================] - 0s 4ms/step - loss: 0.0089 - accuracy: 0.9962 - val_loss: 0.0082 - val_accuracy: 0.9851\n",
            "Epoch 262/300\n",
            "27/27 [==============================] - 0s 4ms/step - loss: 0.0088 - accuracy: 0.9962 - val_loss: 0.0082 - val_accuracy: 0.9851\n",
            "Epoch 263/300\n",
            "27/27 [==============================] - 0s 4ms/step - loss: 0.0087 - accuracy: 0.9962 - val_loss: 0.0080 - val_accuracy: 0.9851\n",
            "Epoch 264/300\n",
            "27/27 [==============================] - 0s 4ms/step - loss: 0.0086 - accuracy: 0.9962 - val_loss: 0.0079 - val_accuracy: 0.9851\n",
            "Epoch 265/300\n",
            "27/27 [==============================] - 0s 4ms/step - loss: 0.0085 - accuracy: 0.9962 - val_loss: 0.0079 - val_accuracy: 0.9851\n",
            "Epoch 266/300\n",
            "27/27 [==============================] - 0s 5ms/step - loss: 0.0085 - accuracy: 0.9962 - val_loss: 0.0078 - val_accuracy: 0.9851\n",
            "Epoch 267/300\n",
            "27/27 [==============================] - 0s 5ms/step - loss: 0.0084 - accuracy: 0.9962 - val_loss: 0.0079 - val_accuracy: 0.9851\n",
            "Epoch 268/300\n",
            "27/27 [==============================] - 0s 4ms/step - loss: 0.0084 - accuracy: 0.9962 - val_loss: 0.0078 - val_accuracy: 0.9851\n",
            "Epoch 269/300\n",
            "27/27 [==============================] - 0s 4ms/step - loss: 0.0081 - accuracy: 0.9962 - val_loss: 0.0078 - val_accuracy: 0.9851\n",
            "Epoch 270/300\n",
            "27/27 [==============================] - 0s 5ms/step - loss: 0.0082 - accuracy: 0.9962 - val_loss: 0.0075 - val_accuracy: 0.9851\n",
            "Epoch 271/300\n",
            "27/27 [==============================] - 0s 5ms/step - loss: 0.0081 - accuracy: 0.9962 - val_loss: 0.0076 - val_accuracy: 0.9851\n",
            "Epoch 272/300\n",
            "27/27 [==============================] - 0s 6ms/step - loss: 0.0080 - accuracy: 0.9962 - val_loss: 0.0075 - val_accuracy: 0.9851\n",
            "Epoch 273/300\n",
            "27/27 [==============================] - 0s 5ms/step - loss: 0.0078 - accuracy: 0.9962 - val_loss: 0.0074 - val_accuracy: 0.9851\n",
            "Epoch 274/300\n",
            "27/27 [==============================] - 0s 5ms/step - loss: 0.0078 - accuracy: 0.9962 - val_loss: 0.0074 - val_accuracy: 0.9851\n",
            "Epoch 275/300\n",
            "27/27 [==============================] - 0s 5ms/step - loss: 0.0077 - accuracy: 0.9962 - val_loss: 0.0073 - val_accuracy: 0.9851\n",
            "Epoch 276/300\n",
            "27/27 [==============================] - 0s 5ms/step - loss: 0.0079 - accuracy: 0.9962 - val_loss: 0.0073 - val_accuracy: 0.9851\n",
            "Epoch 277/300\n",
            "27/27 [==============================] - 0s 5ms/step - loss: 0.0076 - accuracy: 0.9962 - val_loss: 0.0072 - val_accuracy: 0.9851\n",
            "Epoch 278/300\n",
            "27/27 [==============================] - 0s 5ms/step - loss: 0.0076 - accuracy: 0.9962 - val_loss: 0.0071 - val_accuracy: 0.9851\n",
            "Epoch 279/300\n",
            "27/27 [==============================] - 0s 5ms/step - loss: 0.0075 - accuracy: 0.9962 - val_loss: 0.0071 - val_accuracy: 0.9851\n",
            "Epoch 280/300\n",
            "27/27 [==============================] - 0s 5ms/step - loss: 0.0074 - accuracy: 0.9962 - val_loss: 0.0071 - val_accuracy: 0.9851\n",
            "Epoch 281/300\n",
            "27/27 [==============================] - 0s 5ms/step - loss: 0.0074 - accuracy: 0.9962 - val_loss: 0.0069 - val_accuracy: 0.9851\n",
            "Epoch 282/300\n",
            "27/27 [==============================] - 0s 5ms/step - loss: 0.0073 - accuracy: 0.9962 - val_loss: 0.0072 - val_accuracy: 0.9851\n",
            "Epoch 283/300\n",
            "27/27 [==============================] - 0s 5ms/step - loss: 0.0073 - accuracy: 0.9962 - val_loss: 0.0069 - val_accuracy: 0.9851\n",
            "Epoch 284/300\n",
            "27/27 [==============================] - 0s 5ms/step - loss: 0.0071 - accuracy: 0.9962 - val_loss: 0.0069 - val_accuracy: 0.9851\n",
            "Epoch 285/300\n",
            "27/27 [==============================] - 0s 5ms/step - loss: 0.0073 - accuracy: 0.9962 - val_loss: 0.0070 - val_accuracy: 0.9851\n",
            "Epoch 286/300\n",
            "27/27 [==============================] - 0s 5ms/step - loss: 0.0069 - accuracy: 0.9962 - val_loss: 0.0067 - val_accuracy: 0.9851\n",
            "Epoch 287/300\n",
            "27/27 [==============================] - 0s 4ms/step - loss: 0.0071 - accuracy: 0.9962 - val_loss: 0.0067 - val_accuracy: 0.9851\n",
            "Epoch 288/300\n",
            "27/27 [==============================] - 0s 5ms/step - loss: 0.0070 - accuracy: 0.9962 - val_loss: 0.0067 - val_accuracy: 0.9851\n",
            "Epoch 289/300\n",
            "27/27 [==============================] - 0s 8ms/step - loss: 0.0069 - accuracy: 0.9962 - val_loss: 0.0067 - val_accuracy: 0.9851\n",
            "Epoch 290/300\n",
            "27/27 [==============================] - 0s 6ms/step - loss: 0.0068 - accuracy: 0.9962 - val_loss: 0.0067 - val_accuracy: 0.9851\n",
            "Epoch 291/300\n",
            "27/27 [==============================] - 0s 6ms/step - loss: 0.0068 - accuracy: 0.9962 - val_loss: 0.0066 - val_accuracy: 0.9851\n",
            "Epoch 292/300\n",
            "27/27 [==============================] - 1s 29ms/step - loss: 0.0068 - accuracy: 0.9962 - val_loss: 0.0065 - val_accuracy: 0.9851\n",
            "Epoch 293/300\n",
            "27/27 [==============================] - 0s 6ms/step - loss: 0.0066 - accuracy: 0.9962 - val_loss: 0.0064 - val_accuracy: 0.9851\n",
            "Epoch 294/300\n",
            "27/27 [==============================] - 0s 6ms/step - loss: 0.0065 - accuracy: 0.9962 - val_loss: 0.0064 - val_accuracy: 0.9851\n",
            "Epoch 295/300\n",
            "27/27 [==============================] - 0s 17ms/step - loss: 0.0066 - accuracy: 0.9962 - val_loss: 0.0064 - val_accuracy: 0.9851\n",
            "Epoch 296/300\n",
            "27/27 [==============================] - 1s 20ms/step - loss: 0.0067 - accuracy: 0.9962 - val_loss: 0.0066 - val_accuracy: 0.9851\n",
            "Epoch 297/300\n",
            "27/27 [==============================] - 0s 7ms/step - loss: 0.0064 - accuracy: 0.9962 - val_loss: 0.0061 - val_accuracy: 0.9851\n",
            "Epoch 298/300\n",
            "27/27 [==============================] - 0s 6ms/step - loss: 0.0063 - accuracy: 0.9962 - val_loss: 0.0063 - val_accuracy: 0.9851\n",
            "Epoch 299/300\n",
            "27/27 [==============================] - 1s 30ms/step - loss: 0.0063 - accuracy: 0.9962 - val_loss: 0.0063 - val_accuracy: 0.9851\n",
            "Epoch 300/300\n",
            "27/27 [==============================] - 0s 6ms/step - loss: 0.0062 - accuracy: 0.9962 - val_loss: 0.0062 - val_accuracy: 0.9851\n"
          ]
        }
      ]
    },
    {
      "cell_type": "code",
      "source": [
        "plt.plot(history.history['accuracy'])\n",
        "plt.plot(history.history['val_accuracy'], 'r--')\n",
        "plt.title('Precision del modelo')\n",
        "plt.xlabel('Epocas')\n",
        "plt.ylabel('Precisión')\n",
        "plt.legend(['Entrenamiento', 'Prueba'], loc='upper left')\n",
        "plt.show"
      ],
      "metadata": {
        "colab": {
          "base_uri": "https://localhost:8080/",
          "height": 312
        },
        "id": "pkuUN4Z-_y3v",
        "outputId": "158e3e94-9628-461a-e9ae-2a58e5a73679"
      },
      "execution_count": null,
      "outputs": [
        {
          "output_type": "execute_result",
          "data": {
            "text/plain": [
              "<function matplotlib.pyplot.show(close=None, block=None)>"
            ]
          },
          "metadata": {},
          "execution_count": 18
        },
        {
          "output_type": "display_data",
          "data": {
            "text/plain": [
              "<Figure size 432x288 with 1 Axes>"
            ],
            "image/png": "[encoded data removed]"
          },
          "metadata": {
            "needs_background": "light"
          }
        }
      ]
    },
    {
      "cell_type": "code",
      "source": [
        "plt.plot(history.history['loss'])\n",
        "plt.plot(history.history['val_loss'], 'r--')\n",
        "plt.title('Pérdida del modelo')\n",
        "plt.xlabel('Iteraciones')\n",
        "plt.ylabel('Pérdida')\n",
        "plt.legend(['Entrenamiento', 'Prueba'], loc='upper left')\n",
        "plt.show"
      ],
      "metadata": {
        "colab": {
          "base_uri": "https://localhost:8080/",
          "height": 312
        },
        "id": "OkYMJCMU_3cW",
        "outputId": "9924e684-4b9a-4b1d-882e-3d7194ab5ed6"
      },
      "execution_count": null,
      "outputs": [
        {
          "output_type": "execute_result",
          "data": {
            "text/plain": [
              "<function matplotlib.pyplot.show(close=None, block=None)>"
            ]
          },
          "metadata": {},
          "execution_count": 19
        },
        {
          "output_type": "display_data",
          "data": {
            "text/plain": [
              "<Figure size 432x288 with 1 Axes>"
            ],
            "image/png": "[encoded data removed]"
          },
          "metadata": {
            "needs_background": "light"
          }
        }
      ]
    }
  ]
}